{
 "cells": [
  {
   "cell_type": "code",
   "execution_count": 33,
   "metadata": {},
   "outputs": [],
   "source": [
    "import numpy as np\n",
    "import pandas"
   ]
  },
  {
   "cell_type": "code",
   "execution_count": 34,
   "metadata": {},
   "outputs": [],
   "source": [
    "r = pandas.read_csv('homework_01_dataset.csv')"
   ]
  },
  {
   "cell_type": "code",
   "execution_count": 35,
   "metadata": {},
   "outputs": [
    {
     "data": {
      "text/html": [
       "<div>\n",
       "<style scoped>\n",
       "    .dataframe tbody tr th:only-of-type {\n",
       "        vertical-align: middle;\n",
       "    }\n",
       "\n",
       "    .dataframe tbody tr th {\n",
       "        vertical-align: top;\n",
       "    }\n",
       "\n",
       "    .dataframe thead th {\n",
       "        text-align: right;\n",
       "    }\n",
       "</style>\n",
       "<table border=\"1\" class=\"dataframe\">\n",
       "  <thead>\n",
       "    <tr style=\"text-align: right;\">\n",
       "      <th></th>\n",
       "      <th>x1</th>\n",
       "      <th>x2</th>\n",
       "      <th>x3</th>\n",
       "      <th>z</th>\n",
       "    </tr>\n",
       "  </thead>\n",
       "  <tbody>\n",
       "    <tr>\n",
       "      <td>0</td>\n",
       "      <td>5.5</td>\n",
       "      <td>0.5</td>\n",
       "      <td>4.5</td>\n",
       "      <td>2</td>\n",
       "    </tr>\n",
       "    <tr>\n",
       "      <td>1</td>\n",
       "      <td>7.4</td>\n",
       "      <td>1.1</td>\n",
       "      <td>3.6</td>\n",
       "      <td>0</td>\n",
       "    </tr>\n",
       "    <tr>\n",
       "      <td>2</td>\n",
       "      <td>5.9</td>\n",
       "      <td>0.2</td>\n",
       "      <td>3.4</td>\n",
       "      <td>2</td>\n",
       "    </tr>\n",
       "    <tr>\n",
       "      <td>3</td>\n",
       "      <td>9.9</td>\n",
       "      <td>0.1</td>\n",
       "      <td>0.8</td>\n",
       "      <td>0</td>\n",
       "    </tr>\n",
       "    <tr>\n",
       "      <td>4</td>\n",
       "      <td>6.9</td>\n",
       "      <td>-0.1</td>\n",
       "      <td>0.6</td>\n",
       "      <td>2</td>\n",
       "    </tr>\n",
       "    <tr>\n",
       "      <td>5</td>\n",
       "      <td>6.8</td>\n",
       "      <td>-0.3</td>\n",
       "      <td>5.1</td>\n",
       "      <td>2</td>\n",
       "    </tr>\n",
       "    <tr>\n",
       "      <td>6</td>\n",
       "      <td>4.1</td>\n",
       "      <td>0.3</td>\n",
       "      <td>5.1</td>\n",
       "      <td>1</td>\n",
       "    </tr>\n",
       "    <tr>\n",
       "      <td>7</td>\n",
       "      <td>1.3</td>\n",
       "      <td>-0.2</td>\n",
       "      <td>1.8</td>\n",
       "      <td>1</td>\n",
       "    </tr>\n",
       "    <tr>\n",
       "      <td>8</td>\n",
       "      <td>4.5</td>\n",
       "      <td>0.4</td>\n",
       "      <td>2.0</td>\n",
       "      <td>0</td>\n",
       "    </tr>\n",
       "    <tr>\n",
       "      <td>9</td>\n",
       "      <td>0.5</td>\n",
       "      <td>0.0</td>\n",
       "      <td>2.3</td>\n",
       "      <td>1</td>\n",
       "    </tr>\n",
       "    <tr>\n",
       "      <td>10</td>\n",
       "      <td>5.9</td>\n",
       "      <td>-0.1</td>\n",
       "      <td>4.4</td>\n",
       "      <td>0</td>\n",
       "    </tr>\n",
       "    <tr>\n",
       "      <td>11</td>\n",
       "      <td>9.3</td>\n",
       "      <td>-0.2</td>\n",
       "      <td>3.2</td>\n",
       "      <td>0</td>\n",
       "    </tr>\n",
       "    <tr>\n",
       "      <td>12</td>\n",
       "      <td>1.0</td>\n",
       "      <td>0.1</td>\n",
       "      <td>2.8</td>\n",
       "      <td>1</td>\n",
       "    </tr>\n",
       "    <tr>\n",
       "      <td>13</td>\n",
       "      <td>0.4</td>\n",
       "      <td>0.1</td>\n",
       "      <td>4.3</td>\n",
       "      <td>1</td>\n",
       "    </tr>\n",
       "    <tr>\n",
       "      <td>14</td>\n",
       "      <td>2.7</td>\n",
       "      <td>-0.5</td>\n",
       "      <td>4.2</td>\n",
       "      <td>1</td>\n",
       "    </tr>\n",
       "  </tbody>\n",
       "</table>\n",
       "</div>"
      ],
      "text/plain": [
       "     x1   x2   x3   z\n",
       "0   5.5  0.5  4.5   2\n",
       "1   7.4  1.1  3.6   0\n",
       "2   5.9  0.2  3.4   2\n",
       "3   9.9  0.1  0.8   0\n",
       "4   6.9 -0.1  0.6   2\n",
       "5   6.8 -0.3  5.1   2\n",
       "6   4.1  0.3  5.1   1\n",
       "7   1.3 -0.2  1.8   1\n",
       "8   4.5  0.4  2.0   0\n",
       "9   0.5  0.0  2.3   1\n",
       "10  5.9 -0.1  4.4   0\n",
       "11  9.3 -0.2  3.2   0\n",
       "12  1.0  0.1  2.8   1\n",
       "13  0.4  0.1  4.3   1\n",
       "14  2.7 -0.5  4.2   1"
      ]
     },
     "execution_count": 35,
     "metadata": {},
     "output_type": "execute_result"
    }
   ],
   "source": [
    "r"
   ]
  },
  {
   "cell_type": "code",
   "execution_count": 36,
   "metadata": {},
   "outputs": [],
   "source": [
    "a = np.array(r)"
   ]
  },
  {
   "cell_type": "code",
   "execution_count": 37,
   "metadata": {},
   "outputs": [
    {
     "data": {
      "text/plain": [
       "array([[ 5.5,  0.5,  4.5,  2. ],\n",
       "       [ 7.4,  1.1,  3.6,  0. ],\n",
       "       [ 5.9,  0.2,  3.4,  2. ],\n",
       "       [ 9.9,  0.1,  0.8,  0. ],\n",
       "       [ 6.9, -0.1,  0.6,  2. ],\n",
       "       [ 6.8, -0.3,  5.1,  2. ],\n",
       "       [ 4.1,  0.3,  5.1,  1. ],\n",
       "       [ 1.3, -0.2,  1.8,  1. ],\n",
       "       [ 4.5,  0.4,  2. ,  0. ],\n",
       "       [ 0.5,  0. ,  2.3,  1. ],\n",
       "       [ 5.9, -0.1,  4.4,  0. ],\n",
       "       [ 9.3, -0.2,  3.2,  0. ],\n",
       "       [ 1. ,  0.1,  2.8,  1. ],\n",
       "       [ 0.4,  0.1,  4.3,  1. ],\n",
       "       [ 2.7, -0.5,  4.2,  1. ]])"
      ]
     },
     "execution_count": 37,
     "metadata": {},
     "output_type": "execute_result"
    }
   ],
   "source": [
    "a"
   ]
  },
  {
   "cell_type": "code",
   "execution_count": 39,
   "metadata": {},
   "outputs": [],
   "source": [
    "df = pandas.DataFrame(np.random.randn(1000, 4), columns=['A','B','C','D'])"
   ]
  },
  {
   "cell_type": "code",
   "execution_count": 41,
   "metadata": {},
   "outputs": [
    {
     "data": {
      "text/plain": [
       "array([[<matplotlib.axes._subplots.AxesSubplot object at 0x11dcfb2b0>,\n",
       "        <matplotlib.axes._subplots.AxesSubplot object at 0x11dd6a518>,\n",
       "        <matplotlib.axes._subplots.AxesSubplot object at 0x11fd959e8>,\n",
       "        <matplotlib.axes._subplots.AxesSubplot object at 0x11fdbcf98>],\n",
       "       [<matplotlib.axes._subplots.AxesSubplot object at 0x11fdea588>,\n",
       "        <matplotlib.axes._subplots.AxesSubplot object at 0x11fe15b38>,\n",
       "        <matplotlib.axes._subplots.AxesSubplot object at 0x11fe51128>,\n",
       "        <matplotlib.axes._subplots.AxesSubplot object at 0x11fe81710>],\n",
       "       [<matplotlib.axes._subplots.AxesSubplot object at 0x11fe81748>,\n",
       "        <matplotlib.axes._subplots.AxesSubplot object at 0x11feef278>,\n",
       "        <matplotlib.axes._subplots.AxesSubplot object at 0x11ff1f828>,\n",
       "        <matplotlib.axes._subplots.AxesSubplot object at 0x11ff50dd8>],\n",
       "       [<matplotlib.axes._subplots.AxesSubplot object at 0x11ff8c3c8>,\n",
       "        <matplotlib.axes._subplots.AxesSubplot object at 0x11ffbb978>,\n",
       "        <matplotlib.axes._subplots.AxesSubplot object at 0x11ffeff28>,\n",
       "        <matplotlib.axes._subplots.AxesSubplot object at 0x12002a518>]],\n",
       "      dtype=object)"
      ]
     },
     "execution_count": 41,
     "metadata": {},
     "output_type": "execute_result"
    }
   ],
   "source": [
    "from pandas.plotting import scatter_matrix\n",
    "\n",
    "scatter_matrix(df, alpha=0.2)"
   ]
  },
  {
   "cell_type": "code",
   "execution_count": null,
   "metadata": {},
   "outputs": [],
   "source": []
  }
 ],
 "metadata": {
  "kernelspec": {
   "display_name": "Python 3",
   "language": "python",
   "name": "python3"
  },
  "language_info": {
   "codemirror_mode": {
    "name": "ipython",
    "version": 3
   },
   "file_extension": ".py",
   "mimetype": "text/x-python",
   "name": "python",
   "nbconvert_exporter": "python",
   "pygments_lexer": "ipython3",
   "version": "3.6.6"
  }
 },
 "nbformat": 4,
 "nbformat_minor": 2
}
